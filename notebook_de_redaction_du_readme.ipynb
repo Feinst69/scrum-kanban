{
 "cells": [
  {
   "cell_type": "markdown",
   "metadata": {
    "vscode": {
     "languageId": "plaintext"
    }
   },
   "source": [
    "# scrum-kanban\n",
    "Kick Off 5\n",
    "\n",
    "## Membres du projet\n",
    "\n",
    "Tanjona RAIJAMOHTEAKREKA\n",
    "Julien Ract-Mugnerot\n",
    "Hedi Zarrouck\n",
    "Alexandre Teissier\n",
    "\n",
    "## Introduction\n",
    "\n",
    "\n",
    "\n",
    "### Chronologie\n",
    "\n",
    "on fout roadmap ici ?"
   ]
  },
  {
   "cell_type": "markdown",
   "metadata": {
    "vscode": {
     "languageId": "plaintext"
    }
   },
   "source": [
    "\n",
    "## Veille Technologique sur la méthode Agile Scrum\n",
    "\n",
    "### 1. Qu’est ce que la méthode Scrum ? Quel est son objectif ?\n",
    "La méthode Scrum est un cadre de travail agile utilisé pour le développement de produits complexes. Son objectif est d'améliorer la productivité et la qualité en favorisant la collaboration, la flexibilité et l'amélioration continue.\n",
    "\n",
    "### 2. La méthode Scrum repose sur des valeurs, des principes, ainsi que des piliers. Que sont-ils ? Expliquez les.\n",
    "- **Valeurs** : Engagement, Courage, Focus, Ouverture, Respect.\n",
    "- **Principes** : Transparence, Inspection, Adaptation.\n",
    "- **Piliers** :\n",
    "  - **Transparence** : Tout le monde doit avoir une compréhension commune du travail.\n",
    "  - **Inspection** : Les artefacts Scrum et les progrès vers les objectifs doivent être inspectés fréquemment.\n",
    "  - **Adaptation** : Les ajustements doivent être faits dès que possible pour minimiser les écarts.\n",
    "\n",
    "### 3. Toute équipe de méthodes agiles est auto organisée. Comment se compose une équipe Scrum ? Expliquez leur rôle et leur importance.\n",
    "- **Product Owner** : Responsable de maximiser la valeur du produit et de gérer le backlog.\n",
    "- **Scrum Master** : Facilite le processus Scrum, aide à résoudre les obstacles et assure que l'équipe adhère aux pratiques Scrum.\n",
    "- **Équipe de développement** : Groupe auto-organisé de professionnels qui travaillent ensemble pour livrer des incréments de produit potentiellement livrables à la fin de chaque sprint.\n",
    "\n",
    "### 4. Un projet organisé par la méthode Scrum est rythmé par un ensemble d'événements. Énoncez ces différents événements et expliquez les.\n",
    "- **Sprint** : Période de travail de 1 à 4 semaines où un incrément de produit est créé.\n",
    "- **Sprint Planning** : Réunion pour planifier le travail à accomplir pendant le sprint.\n",
    "- **Daily Scrum** : Réunion quotidienne de 15 minutes pour synchroniser les activités et planifier les 24 prochaines heures.\n",
    "- **Sprint Review** : Réunion à la fin du sprint pour inspecter l'incrément et adapter le backlog si nécessaire.\n",
    "- **Sprint Retrospective** : Réunion pour réfléchir sur le sprint passé et identifier des améliorations pour le prochain sprint.\n",
    "\n",
    "### 5. Donnez les artefacts et outils de la méthode Scrum. Les artefacts désignent des produits ayant subi des transformations durant la gestion du projet.\n",
    "- **Product Backlog** : Liste ordonnée de tout ce qui est connu pour être nécessaire dans le produit.\n",
    "- **Sprint Backlog** : Ensemble des éléments du Product Backlog sélectionnés pour le sprint, plus un plan pour livrer l'incrément.\n",
    "- **Incrément** : Somme de tous les éléments du Product Backlog complétés durant un sprint et les sprints précédents.\n",
    "\n",
    "### 6. Définissez de manière claire et concise, les mots clés suivants : user story, story points, la DoD, un Burndown chart et la méthode Kanban.\n",
    "- **User Story** : Description simple d'une fonctionnalité du point de vue de l'utilisateur final.\n",
    "- **Story Points** : Unité de mesure pour estimer la difficulté d'une user story.\n",
    "- **DoD (Definition of Done)** : Ensemble de critères qui doivent être remplis pour qu'un élément du backlog soit considéré comme terminé.\n",
    "- **Burndown Chart** : Graphique montrant le travail restant à faire par rapport au temps.\n",
    "- **Méthode Kanban** : Méthode agile de gestion de projet qui visualise le travail, limite le travail en cours et maximise l'efficacité.\n",
    "\n",
    "### 7. Étant très impressionné par la puissance et l’efficacité de la méthode Scrum, vous décidez d’argumenter son utilisation aux autres étudiants.\n",
    "La méthode Scrum est une approche agile qui favorise la collaboration, l'adaptabilité et l'efficacité dans la gestion de projets. Voici pourquoi elle mérite d’être adoptée :\n",
    "\n",
    "- **Focalisation** sur la valeur : Scrum permet de prioriser les fonctionnalités les plus importantes pour livrer rapidement un produit fonctionnel et répondre aux besoins des utilisateurs.\n",
    "- **Adaptabilité** : Grâce à des itérations courtes (sprints), l'équipe peut ajuster le projet en fonction des retours clients ou des imprévus.\n",
    "- **Meilleure collaboration** : Avec des cérémonies comme les daily stand-ups et les rétrospectives, la communication et la coordination sont renforcées.\n",
    "- **Transparence accrue** : Les rôles bien définis et les outils comme le Scrum Board assurent une visibilité sur l’avancement des tâches.\n",
    "- **Amélioration continue** : Les rétrospectives régulières permettent d'identifier les points à améliorer pour maximiser l’efficacité de l'équipe.\n",
    "- **Engagement de l'équipe** : L'autonomie des membres et leur implication dans les décisions créent un environnement motivant.\n",
    "Scrum transforme la manière de travailler et garantit une approche flexible et centrée sur les résultats.\n"
   ]
  },
  {
   "cell_type": "code",
   "execution_count": null,
   "metadata": {
    "vscode": {
     "languageId": "plaintext"
    }
   },
   "outputs": [],
   "source": []
  },
  {
   "cell_type": "markdown",
   "metadata": {},
   "source": [
    "\n",
    "### Organisation des équipes sur le projet fictif\n",
    "\n",
    "#### Global\n",
    "\n",
    "- Sprint d'une durée de deux semaines se concluant par un sprint review pour présenter les fonctionnalités implémentés à l'occasion de cette période de travail effectif.\n",
    "\n",
    "\n",
    "#### Interne\n",
    "\n",
    "- **Réunion Bihebdomadaire** `(Lundi & Vendredi)` Dédié à la discussion sur les grands axes du projet et la répartition des tâches ainsi que l'estimation du temps nécessaire à leur implémentation.\n",
    "- **Réunion quotidienne** `(Daily de mardi à jeudi)` debout pour résumer l'activité de la journée précédente, signaler les points bloquants rencontrés ainsi que les problématiques à venir et communiquer afin de les résoudre.\n",
    "\n",
    "#### Communication avec le client\n",
    "- **Compte-rendu** `quotidien` réalisés par le Scrum Master pour proposer une tracabilité de l'avancé du projet au client et obtenir des retours impactant l'exécution du projet le plus rapidement possible.\n",
    "- **Réunion Hebdomadaire** `mardi` entre le Scrum Master et le client pour communiquer sur la mise en oeuvre du projet ainsi que faciliter les échanges pour s'assurer que le produit final corresponde bien à la vision du client et qu'il puisse demander à ce que des modifications soient apportées, sur l'aspect technique tout comme sur l'interface visuelle back vu que la réalisation d'un front n'est pas nécessaire sur ce projet.\n",
    "(a ponctuer comme phrase)\n",
    "\n",
    "\n",
    "- `Suivi de Projet`\n",
    "  - Trello/Kanban Github\n",
    "  - Comptes Rendus quotidients"
   ]
  },
  {
   "cell_type": "code",
   "execution_count": null,
   "metadata": {
    "vscode": {
     "languageId": "plaintext"
    }
   },
   "outputs": [],
   "source": []
  },
  {
   "cell_type": "markdown",
   "metadata": {
    "vscode": {
     "languageId": "plaintext"
    }
   },
   "source": [
    "### Outils utilisés\n",
    "\n",
    "#### Technique\n",
    "\n",
    "\n",
    "#### Organisationnel\n"
   ]
  },
  {
   "cell_type": "code",
   "execution_count": null,
   "metadata": {
    "vscode": {
     "languageId": "plaintext"
    }
   },
   "outputs": [],
   "source": []
  },
  {
   "cell_type": "markdown",
   "metadata": {
    "vscode": {
     "languageId": "plaintext"
    }
   },
   "source": [
    "### Chronologie\n"
   ]
  },
  {
   "cell_type": "code",
   "execution_count": null,
   "metadata": {
    "vscode": {
     "languageId": "plaintext"
    }
   },
   "outputs": [],
   "source": []
  },
  {
   "cell_type": "code",
   "execution_count": null,
   "metadata": {
    "vscode": {
     "languageId": "plaintext"
    }
   },
   "outputs": [],
   "source": []
  },
  {
   "cell_type": "code",
   "execution_count": null,
   "metadata": {
    "vscode": {
     "languageId": "plaintext"
    }
   },
   "outputs": [],
   "source": []
  },
  {
   "cell_type": "code",
   "execution_count": null,
   "metadata": {
    "vscode": {
     "languageId": "plaintext"
    }
   },
   "outputs": [],
   "source": []
  },
  {
   "cell_type": "code",
   "execution_count": null,
   "metadata": {
    "vscode": {
     "languageId": "plaintext"
    }
   },
   "outputs": [],
   "source": []
  },
  {
   "cell_type": "code",
   "execution_count": null,
   "metadata": {
    "vscode": {
     "languageId": "plaintext"
    }
   },
   "outputs": [],
   "source": []
  },
  {
   "cell_type": "code",
   "execution_count": null,
   "metadata": {
    "vscode": {
     "languageId": "plaintext"
    }
   },
   "outputs": [],
   "source": []
  },
  {
   "cell_type": "code",
   "execution_count": null,
   "metadata": {
    "vscode": {
     "languageId": "plaintext"
    }
   },
   "outputs": [],
   "source": []
  },
  {
   "cell_type": "code",
   "execution_count": null,
   "metadata": {
    "vscode": {
     "languageId": "plaintext"
    }
   },
   "outputs": [],
   "source": []
  },
  {
   "cell_type": "code",
   "execution_count": null,
   "metadata": {
    "vscode": {
     "languageId": "plaintext"
    }
   },
   "outputs": [],
   "source": []
  },
  {
   "cell_type": "code",
   "execution_count": null,
   "metadata": {
    "vscode": {
     "languageId": "plaintext"
    }
   },
   "outputs": [],
   "source": []
  },
  {
   "cell_type": "code",
   "execution_count": null,
   "metadata": {
    "vscode": {
     "languageId": "plaintext"
    }
   },
   "outputs": [],
   "source": []
  },
  {
   "cell_type": "code",
   "execution_count": null,
   "metadata": {
    "vscode": {
     "languageId": "plaintext"
    }
   },
   "outputs": [],
   "source": []
  },
  {
   "cell_type": "code",
   "execution_count": null,
   "metadata": {
    "vscode": {
     "languageId": "plaintext"
    }
   },
   "outputs": [],
   "source": []
  },
  {
   "cell_type": "code",
   "execution_count": null,
   "metadata": {
    "vscode": {
     "languageId": "plaintext"
    }
   },
   "outputs": [],
   "source": []
  },
  {
   "cell_type": "code",
   "execution_count": null,
   "metadata": {
    "vscode": {
     "languageId": "plaintext"
    }
   },
   "outputs": [],
   "source": []
  },
  {
   "cell_type": "code",
   "execution_count": null,
   "metadata": {
    "vscode": {
     "languageId": "plaintext"
    }
   },
   "outputs": [],
   "source": []
  },
  {
   "cell_type": "code",
   "execution_count": null,
   "metadata": {
    "vscode": {
     "languageId": "plaintext"
    }
   },
   "outputs": [],
   "source": []
  },
  {
   "cell_type": "code",
   "execution_count": null,
   "metadata": {
    "vscode": {
     "languageId": "plaintext"
    }
   },
   "outputs": [],
   "source": []
  },
  {
   "cell_type": "code",
   "execution_count": null,
   "metadata": {
    "vscode": {
     "languageId": "plaintext"
    }
   },
   "outputs": [],
   "source": []
  },
  {
   "cell_type": "code",
   "execution_count": null,
   "metadata": {
    "vscode": {
     "languageId": "plaintext"
    }
   },
   "outputs": [],
   "source": []
  },
  {
   "cell_type": "code",
   "execution_count": null,
   "metadata": {
    "vscode": {
     "languageId": "plaintext"
    }
   },
   "outputs": [],
   "source": []
  },
  {
   "cell_type": "code",
   "execution_count": null,
   "metadata": {
    "vscode": {
     "languageId": "plaintext"
    }
   },
   "outputs": [],
   "source": []
  },
  {
   "cell_type": "code",
   "execution_count": null,
   "metadata": {
    "vscode": {
     "languageId": "plaintext"
    }
   },
   "outputs": [],
   "source": []
  },
  {
   "cell_type": "code",
   "execution_count": null,
   "metadata": {
    "vscode": {
     "languageId": "plaintext"
    }
   },
   "outputs": [],
   "source": []
  },
  {
   "cell_type": "code",
   "execution_count": null,
   "metadata": {
    "vscode": {
     "languageId": "plaintext"
    }
   },
   "outputs": [],
   "source": []
  },
  {
   "cell_type": "code",
   "execution_count": null,
   "metadata": {
    "vscode": {
     "languageId": "plaintext"
    }
   },
   "outputs": [],
   "source": []
  },
  {
   "cell_type": "code",
   "execution_count": null,
   "metadata": {
    "vscode": {
     "languageId": "plaintext"
    }
   },
   "outputs": [],
   "source": []
  },
  {
   "cell_type": "code",
   "execution_count": null,
   "metadata": {
    "vscode": {
     "languageId": "plaintext"
    }
   },
   "outputs": [],
   "source": []
  },
  {
   "cell_type": "code",
   "execution_count": null,
   "metadata": {
    "vscode": {
     "languageId": "plaintext"
    }
   },
   "outputs": [],
   "source": []
  },
  {
   "cell_type": "code",
   "execution_count": null,
   "metadata": {
    "vscode": {
     "languageId": "plaintext"
    }
   },
   "outputs": [],
   "source": []
  },
  {
   "cell_type": "code",
   "execution_count": null,
   "metadata": {
    "vscode": {
     "languageId": "plaintext"
    }
   },
   "outputs": [],
   "source": []
  },
  {
   "cell_type": "code",
   "execution_count": null,
   "metadata": {
    "vscode": {
     "languageId": "plaintext"
    }
   },
   "outputs": [],
   "source": []
  },
  {
   "cell_type": "code",
   "execution_count": null,
   "metadata": {
    "vscode": {
     "languageId": "plaintext"
    }
   },
   "outputs": [],
   "source": []
  },
  {
   "cell_type": "code",
   "execution_count": null,
   "metadata": {
    "vscode": {
     "languageId": "plaintext"
    }
   },
   "outputs": [],
   "source": []
  },
  {
   "cell_type": "code",
   "execution_count": null,
   "metadata": {
    "vscode": {
     "languageId": "plaintext"
    }
   },
   "outputs": [],
   "source": []
  },
  {
   "cell_type": "code",
   "execution_count": null,
   "metadata": {
    "vscode": {
     "languageId": "plaintext"
    }
   },
   "outputs": [],
   "source": []
  },
  {
   "cell_type": "code",
   "execution_count": null,
   "metadata": {
    "vscode": {
     "languageId": "plaintext"
    }
   },
   "outputs": [],
   "source": []
  },
  {
   "cell_type": "code",
   "execution_count": null,
   "metadata": {
    "vscode": {
     "languageId": "plaintext"
    }
   },
   "outputs": [],
   "source": []
  },
  {
   "cell_type": "code",
   "execution_count": null,
   "metadata": {
    "vscode": {
     "languageId": "plaintext"
    }
   },
   "outputs": [],
   "source": []
  },
  {
   "cell_type": "code",
   "execution_count": null,
   "metadata": {
    "vscode": {
     "languageId": "plaintext"
    }
   },
   "outputs": [],
   "source": []
  },
  {
   "cell_type": "code",
   "execution_count": null,
   "metadata": {
    "vscode": {
     "languageId": "plaintext"
    }
   },
   "outputs": [],
   "source": []
  },
  {
   "cell_type": "code",
   "execution_count": null,
   "metadata": {
    "vscode": {
     "languageId": "plaintext"
    }
   },
   "outputs": [],
   "source": []
  },
  {
   "cell_type": "code",
   "execution_count": null,
   "metadata": {
    "vscode": {
     "languageId": "plaintext"
    }
   },
   "outputs": [],
   "source": []
  },
  {
   "cell_type": "code",
   "execution_count": null,
   "metadata": {
    "vscode": {
     "languageId": "plaintext"
    }
   },
   "outputs": [],
   "source": []
  },
  {
   "cell_type": "code",
   "execution_count": null,
   "metadata": {
    "vscode": {
     "languageId": "plaintext"
    }
   },
   "outputs": [],
   "source": []
  },
  {
   "cell_type": "code",
   "execution_count": null,
   "metadata": {
    "vscode": {
     "languageId": "plaintext"
    }
   },
   "outputs": [],
   "source": []
  },
  {
   "cell_type": "code",
   "execution_count": null,
   "metadata": {
    "vscode": {
     "languageId": "plaintext"
    }
   },
   "outputs": [],
   "source": []
  },
  {
   "cell_type": "code",
   "execution_count": null,
   "metadata": {
    "vscode": {
     "languageId": "plaintext"
    }
   },
   "outputs": [],
   "source": []
  },
  {
   "cell_type": "code",
   "execution_count": null,
   "metadata": {
    "vscode": {
     "languageId": "plaintext"
    }
   },
   "outputs": [],
   "source": []
  },
  {
   "cell_type": "code",
   "execution_count": null,
   "metadata": {
    "vscode": {
     "languageId": "plaintext"
    }
   },
   "outputs": [],
   "source": []
  },
  {
   "cell_type": "code",
   "execution_count": null,
   "metadata": {
    "vscode": {
     "languageId": "plaintext"
    }
   },
   "outputs": [],
   "source": []
  },
  {
   "cell_type": "code",
   "execution_count": null,
   "metadata": {
    "vscode": {
     "languageId": "plaintext"
    }
   },
   "outputs": [],
   "source": []
  },
  {
   "cell_type": "code",
   "execution_count": null,
   "metadata": {
    "vscode": {
     "languageId": "plaintext"
    }
   },
   "outputs": [],
   "source": []
  },
  {
   "cell_type": "code",
   "execution_count": null,
   "metadata": {
    "vscode": {
     "languageId": "plaintext"
    }
   },
   "outputs": [],
   "source": []
  }
 ],
 "metadata": {
  "language_info": {
   "name": "python"
  }
 },
 "nbformat": 4,
 "nbformat_minor": 2
}
